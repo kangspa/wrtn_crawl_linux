{
 "cells": [
  {
   "cell_type": "code",
   "execution_count": 8,
   "metadata": {},
   "outputs": [],
   "source": [
    "from dotenv import load_dotenv\n",
    "import os\n",
    "import pymysql as pm\n",
    "\n",
    "# load .env\n",
    "load_dotenv()\n",
    "\n",
    "conn = pm.connect(\n",
    "    host=os.environ.get('SQLHOST'),\n",
    "    port=int(os.environ.get('SQLPORT')),\n",
    "    user=os.environ.get('SQLUSER'),\n",
    "    password=os.environ.get('SQLPW'),\n",
    "    charset='utf8'\n",
    ")\n",
    "\n",
    "cursor = conn.cursor()\n",
    "cursor.execute(\"USE wrtn_char\")\n",
    "\n",
    "create_test = ''' CREATE TABLE `test` (\n",
    "\t`name` VARCHAR(50) NOT NULL,\n",
    "\t`img` BLOB NOT NULL,\n",
    "    `ext` VARCHAR(5) NOT NULL DEFAULT 'jpeg',\n",
    "\tPRIMARY KEY (`name`),\n",
    "\tUNIQUE KEY (`name`)\n",
    ");'''\n",
    "try:\n",
    "    cursor.execute(create_test)\n",
    "except:\n",
    "    print(\"pass\")"
   ]
  },
  {
   "cell_type": "code",
   "execution_count": 20,
   "metadata": {},
   "outputs": [],
   "source": [
    "from selenium import webdriver\n",
    "from selenium.webdriver.common.by import By\n",
    "import time\n",
    "\n",
    "options = webdriver.ChromeOptions()\n",
    "prefs = {\"download.default_directory\": os.path.join(os.getcwd(),\"img\")}\n",
    "options.add_experimental_option(\"prefs\", prefs)\n",
    "# 옵션 적용 시\n",
    "driver = webdriver.Chrome(options=options)\n",
    "\n",
    "# '캐릭터 둘러보기' 페이지 이동\n",
    "driver.get(\"https://wrtn.ai/character\")\n",
    "\n",
    "# 카테고리 선택\n",
    "cat_num = 3\n",
    "cat = driver.find_element(By.CSS_SELECTOR, f'.css-1fzkvcn > *:nth-child({cat_num})')\n",
    "# db에 저장할 카테고리명 추출\n",
    "db_category = cat.text\n",
    "# 해당 카테고리 클릭\n",
    "cat.click()\n",
    "\n",
    "# #스크롤 가능 오브젝트가 윈도우가 아니라, #character-home-scroll 다.\n",
    "# scrollable_div = driver.find_element(By.CSS_SELECTOR, \"#character-home-scroll\")\n",
    "# driver.execute_script(\"arguments[0].scrollTop = arguments[0].scrollHeight\", scrollable_div)\n",
    "\n",
    "time.sleep(2)\n",
    "# 특정 캐릭터 선택\n",
    "dataIdx= 2\n",
    "each_selector = f'.virtuoso-grid-item[data-index=\"{dataIdx}\"]'\n",
    "# 해당 캐릭터 요소를 element에 저장\n",
    "element = driver.find_element(By.CSS_SELECTOR, each_selector)\n",
    "\n",
    "# 해당 요소를 text로 파싱한 후, 개행 문자 기준으로 나눠서 캐릭터명, 설명, 작성자를 저장\n",
    "db_name, db_comment, db_writer = element.text.split('\\n')\n",
    "\n",
    "# 클릭해서 들어가는 요소와, 이미지 요소의 선택자를 별도 작성\n",
    "clk_selector = each_selector+'>div>div:first-child'\n",
    "img_selector = clk_selector+'>div:first-child>.character_avatar>img'\n",
    "\n",
    "# 이미지 요소의 url을 저장\n",
    "db_img = driver.find_element(By.CSS_SELECTOR, img_selector).get_attribute('src')"
   ]
  },
  {
   "cell_type": "code",
   "execution_count": 28,
   "metadata": {},
   "outputs": [
    {
     "name": "stdout",
     "output_type": "stream",
     "text": [
      "4e5ef0b3-f2a4-4788-82c1-af2b9a3ad271_w600 , webp\n"
     ]
    }
   ],
   "source": [
    "db_img_name, db_img_ext = db_img.split('/')[-1].split('.')\n",
    "print(db_img_name, ',', db_img_ext)"
   ]
  },
  {
   "cell_type": "code",
   "execution_count": 29,
   "metadata": {},
   "outputs": [],
   "source": [
    "driver.get(db_img)\n",
    "\n",
    "img_dir = os.path.join(\"./img\", db_img_name+'.'+db_img_ext)"
   ]
  },
  {
   "cell_type": "code",
   "execution_count": 39,
   "metadata": {},
   "outputs": [
    {
     "data": {
      "text/plain": [
       "1"
      ]
     },
     "execution_count": 39,
     "metadata": {},
     "output_type": "execute_result"
    }
   ],
   "source": [
    "from io import BytesIO\n",
    "import base64\n",
    "from PIL import Image\n",
    "\n",
    "buffer = BytesIO()\n",
    "im = Image.open(img_dir)\n",
    "im.save(buffer, format=db_img_ext)\n",
    "img_str = base64.b64encode(buffer.getvalue())\n",
    "img_str = img_str.decode('UTF-8')\n",
    "cursor.execute(f\"INSERT INTO test (name, img, ext) VALUES ('{db_name}', '{img_str}', '{db_img_ext}')\")"
   ]
  },
  {
   "cell_type": "code",
   "execution_count": 40,
   "metadata": {},
   "outputs": [
    {
     "name": "stdout",
     "output_type": "stream",
     "text": [
      "     0                                                  1     2\n",
      "0  차영빈  b'UklGRqx8AABXRUJQVlA4IKB8AACwngKdASpYAlgCPm0y...  webp\n"
     ]
    }
   ],
   "source": [
    "import pandas as pd\n",
    "\n",
    "cursor.execute(\"SELECT * FROM test\")\n",
    "result = cursor.fetchall()\n",
    "\n",
    "df = pd.DataFrame(result)\n",
    "print(df)"
   ]
  },
  {
   "cell_type": "code",
   "execution_count": 44,
   "metadata": {},
   "outputs": [],
   "source": [
    "os.remove(img_dir)"
   ]
  },
  {
   "cell_type": "code",
   "execution_count": 37,
   "metadata": {},
   "outputs": [],
   "source": [
    "driver.quit()"
   ]
  }
 ],
 "metadata": {
  "kernelspec": {
   "display_name": "wrtn-crawl-amDQJCgi-py3.12",
   "language": "python",
   "name": "python3"
  },
  "language_info": {
   "codemirror_mode": {
    "name": "ipython",
    "version": 3
   },
   "file_extension": ".py",
   "mimetype": "text/x-python",
   "name": "python",
   "nbconvert_exporter": "python",
   "pygments_lexer": "ipython3",
   "version": "3.12.3"
  }
 },
 "nbformat": 4,
 "nbformat_minor": 2
}
