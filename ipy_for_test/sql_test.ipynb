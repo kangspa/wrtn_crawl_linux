{
 "cells": [
  {
   "cell_type": "code",
   "execution_count": 2,
   "metadata": {},
   "outputs": [],
   "source": [
    "from dotenv import load_dotenv\n",
    "import os\n",
    "import pymysql as pm\n",
    "\n",
    "# load .env\n",
    "load_dotenv()\n",
    "\n",
    "conn = pm.connect(\n",
    "    host=os.environ.get('SQLHOST'),\n",
    "    port=int(os.environ.get('SQLPORT')),\n",
    "    user=os.environ.get('SQLUSER'),\n",
    "    password=os.environ.get('SQLPW'),\n",
    "    database='wrtn_char',\n",
    "    charset='utf8mb4'\n",
    ")\n",
    "\n",
    "cursor = conn.cursor()"
   ]
  },
  {
   "cell_type": "code",
   "execution_count": 9,
   "metadata": {},
   "outputs": [],
   "source": [
    "import pandas as pd\n",
    "\n",
    "cursor.execute(\"SELECT * FROM char_cat\")\n",
    "result = cursor.fetchall()\n",
    "\n",
    "char_cat = pd.DataFrame(result, columns=['id', 'name', 'writer', 'category'])\n",
    "\n",
    "char_cat.head(10).to_csv('char_cat(10).csv', index=False)"
   ]
  },
  {
   "cell_type": "code",
   "execution_count": 10,
   "metadata": {},
   "outputs": [],
   "source": [
    "cursor.execute(\"SELECT * FROM char_info\")\n",
    "result = cursor.fetchall()\n",
    "\n",
    "char_info = pd.DataFrame(result, columns=['id', 'name', 'comment', 'first_dial', 'writer', 'img', 'ext'])\n",
    "\n",
    "char_info.head(10).to_csv('char_info(10).csv', index=False)"
   ]
  },
  {
   "cell_type": "code",
   "execution_count": 10,
   "metadata": {},
   "outputs": [
    {
     "name": "stdout",
     "output_type": "stream",
     "text": [
      "Already exist DB(wrtn_char)\n"
     ]
    }
   ],
   "source": [
    "try:\n",
    "    cursor.execute(\"CREATE DATABASE wrtn_char\")\n",
    "except:\n",
    "    print(\"Already exist DB(wrtn_char)\")"
   ]
  },
  {
   "cell_type": "code",
   "execution_count": 11,
   "metadata": {},
   "outputs": [
    {
     "data": {
      "text/plain": [
       "0"
      ]
     },
     "execution_count": 11,
     "metadata": {},
     "output_type": "execute_result"
    }
   ],
   "source": [
    "cursor.execute(\"USE wrtn_char\")"
   ]
  },
  {
   "cell_type": "code",
   "execution_count": 13,
   "metadata": {},
   "outputs": [
    {
     "name": "stdout",
     "output_type": "stream",
     "text": [
      "Already exist Table(char_cat)\n",
      "Already exist Table(char_info)\n"
     ]
    }
   ],
   "source": [
    "create_cat = ''' CREATE TABLE `char_cat` (\n",
    "\t`name` VARCHAR(50) NOT NULL,\n",
    "\t`category` VARCHAR(20) NOT NULL,\n",
    "\tPRIMARY KEY (`name`),\n",
    "\tUNIQUE KEY (`name`)\n",
    ");'''\n",
    "\n",
    "create_info = '''CREATE TABLE `char_info` (\n",
    "\t`name` VARCHAR(50) NOT NULL,\n",
    "\t`comment` TEXT NOT NULL,\n",
    "\t`first_dial` TEXT NOT NULL,\n",
    "\t`writer` VARCHAR(50) NOT NULL,\n",
    "\t`img` BLOB NOT NULL,\n",
    "\t`ext` VARCHAR(5) NOT NULL DEFAULT 'jpeg',\n",
    "\tPRIMARY KEY (`name`),\n",
    "\tCONSTRAINT `fk_name` FOREIGN KEY (`name`) REFERENCES `char_cat` (`name`)\n",
    "    ON DELETE CASCADE ON UPDATE CASCADE\n",
    ");'''\n",
    "\n",
    "try:\n",
    "\tcursor.execute(create_cat)\n",
    "except:\n",
    "    print(\"Already exist Table(char_cat)\")\n",
    "try:\n",
    "\tcursor.execute(create_info)\n",
    "except:\n",
    "    print(\"Already exist Table(char_info)\")"
   ]
  },
  {
   "cell_type": "code",
   "execution_count": 14,
   "metadata": {},
   "outputs": [],
   "source": [
    "conn.close()"
   ]
  }
 ],
 "metadata": {
  "kernelspec": {
   "display_name": "wrtn-crawl-amDQJCgi-py3.12",
   "language": "python",
   "name": "python3"
  },
  "language_info": {
   "codemirror_mode": {
    "name": "ipython",
    "version": 3
   },
   "file_extension": ".py",
   "mimetype": "text/x-python",
   "name": "python",
   "nbconvert_exporter": "python",
   "pygments_lexer": "ipython3",
   "version": "3.12.3"
  }
 },
 "nbformat": 4,
 "nbformat_minor": 2
}
