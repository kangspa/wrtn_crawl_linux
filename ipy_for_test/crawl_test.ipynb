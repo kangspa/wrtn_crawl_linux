{
 "cells": [
  {
   "cell_type": "code",
   "execution_count": 29,
   "metadata": {},
   "outputs": [],
   "source": [
    "import time\n",
    "import pandas as pd\n",
    "from selenium import webdriver\n",
    "from selenium.webdriver.common.by import By"
   ]
  },
  {
   "cell_type": "code",
   "execution_count": 30,
   "metadata": {},
   "outputs": [],
   "source": [
    "# 창 안 띄우는 옵션\n",
    "options = webdriver.ChromeOptions()\n",
    "options.add_argument('--headless')\n",
    "# 옵션 적용 시\n",
    "# driver = webdriver.Chrome(options=options)\n",
    "# 옵션 미적용 시\n",
    "driver = webdriver.Chrome()"
   ]
  },
  {
   "cell_type": "code",
   "execution_count": 31,
   "metadata": {},
   "outputs": [],
   "source": [
    "# '캐릭터 둘러보기' 페이지 이동\n",
    "driver.get(\"https://wrtn.ai/character\")"
   ]
  },
  {
   "cell_type": "code",
   "execution_count": 70,
   "metadata": {},
   "outputs": [
    {
     "name": "stdout",
     "output_type": "stream",
     "text": [
      "로맨스\n"
     ]
    },
    {
     "ename": "ElementClickInterceptedException",
     "evalue": "Message: element click intercepted: Element <div display=\"flex\" class=\"css-22ekby\">...</div> is not clickable at point (103, 847). Other element would receive the click: <button width=\"36px\" height=\"36px\" display=\"flex\" class=\"css-1wyj0o6\">...</button>\n  (Session info: chrome=129.0.6668.100)\nStacktrace:\n\tGetHandleVerifier [0x00007FF77D79B095+29557]\n\t(No symbol) [0x00007FF77D70FA50]\n\t(No symbol) [0x00007FF77D5CB56A]\n\t(No symbol) [0x00007FF77D62737E]\n\t(No symbol) [0x00007FF77D624DCC]\n\t(No symbol) [0x00007FF77D622288]\n\t(No symbol) [0x00007FF77D62149A]\n\t(No symbol) [0x00007FF77D61354E]\n\t(No symbol) [0x00007FF77D64718A]\n\t(No symbol) [0x00007FF77D612E86]\n\t(No symbol) [0x00007FF77D6473A0]\n\t(No symbol) [0x00007FF77D66851C]\n\t(No symbol) [0x00007FF77D646F33]\n\t(No symbol) [0x00007FF77D61116F]\n\t(No symbol) [0x00007FF77D6122D1]\n\tGetHandleVerifier [0x00007FF77DACC96D+3378253]\n\tGetHandleVerifier [0x00007FF77DB18497+3688311]\n\tGetHandleVerifier [0x00007FF77DB0D1CB+3642539]\n\tGetHandleVerifier [0x00007FF77D85A6B6+813462]\n\t(No symbol) [0x00007FF77D71AB5F]\n\t(No symbol) [0x00007FF77D716B74]\n\t(No symbol) [0x00007FF77D716D10]\n\t(No symbol) [0x00007FF77D705C1F]\n\tBaseThreadInitThunk [0x00007FF9253A257D+29]\n\tRtlUserThreadStart [0x00007FF925D0AF08+40]\n",
     "output_type": "error",
     "traceback": [
      "\u001b[1;31m---------------------------------------------------------------------------\u001b[0m",
      "\u001b[1;31mElementClickInterceptedException\u001b[0m          Traceback (most recent call last)",
      "Cell \u001b[1;32mIn[70], line 8\u001b[0m\n\u001b[0;32m      6\u001b[0m \u001b[38;5;28mprint\u001b[39m(db_category)\n\u001b[0;32m      7\u001b[0m \u001b[38;5;66;03m# 해당 카테고리 클릭\u001b[39;00m\n\u001b[1;32m----> 8\u001b[0m \u001b[43mcat\u001b[49m\u001b[38;5;241;43m.\u001b[39;49m\u001b[43mclick\u001b[49m\u001b[43m(\u001b[49m\u001b[43m)\u001b[49m\n",
      "File \u001b[1;32mc:\\Users\\kangs\\AppData\\Local\\pypoetry\\Cache\\virtualenvs\\wrtn-crawl-amDQJCgi-py3.12\\Lib\\site-packages\\selenium\\webdriver\\remote\\webelement.py:94\u001b[0m, in \u001b[0;36mWebElement.click\u001b[1;34m(self)\u001b[0m\n\u001b[0;32m     92\u001b[0m \u001b[38;5;28;01mdef\u001b[39;00m \u001b[38;5;21mclick\u001b[39m(\u001b[38;5;28mself\u001b[39m) \u001b[38;5;241m-\u001b[39m\u001b[38;5;241m>\u001b[39m \u001b[38;5;28;01mNone\u001b[39;00m:\n\u001b[0;32m     93\u001b[0m \u001b[38;5;250m    \u001b[39m\u001b[38;5;124;03m\"\"\"Clicks the element.\"\"\"\u001b[39;00m\n\u001b[1;32m---> 94\u001b[0m     \u001b[38;5;28;43mself\u001b[39;49m\u001b[38;5;241;43m.\u001b[39;49m\u001b[43m_execute\u001b[49m\u001b[43m(\u001b[49m\u001b[43mCommand\u001b[49m\u001b[38;5;241;43m.\u001b[39;49m\u001b[43mCLICK_ELEMENT\u001b[49m\u001b[43m)\u001b[49m\n",
      "File \u001b[1;32mc:\\Users\\kangs\\AppData\\Local\\pypoetry\\Cache\\virtualenvs\\wrtn-crawl-amDQJCgi-py3.12\\Lib\\site-packages\\selenium\\webdriver\\remote\\webelement.py:395\u001b[0m, in \u001b[0;36mWebElement._execute\u001b[1;34m(self, command, params)\u001b[0m\n\u001b[0;32m    393\u001b[0m     params \u001b[38;5;241m=\u001b[39m {}\n\u001b[0;32m    394\u001b[0m params[\u001b[38;5;124m\"\u001b[39m\u001b[38;5;124mid\u001b[39m\u001b[38;5;124m\"\u001b[39m] \u001b[38;5;241m=\u001b[39m \u001b[38;5;28mself\u001b[39m\u001b[38;5;241m.\u001b[39m_id\n\u001b[1;32m--> 395\u001b[0m \u001b[38;5;28;01mreturn\u001b[39;00m \u001b[38;5;28;43mself\u001b[39;49m\u001b[38;5;241;43m.\u001b[39;49m\u001b[43m_parent\u001b[49m\u001b[38;5;241;43m.\u001b[39;49m\u001b[43mexecute\u001b[49m\u001b[43m(\u001b[49m\u001b[43mcommand\u001b[49m\u001b[43m,\u001b[49m\u001b[43m \u001b[49m\u001b[43mparams\u001b[49m\u001b[43m)\u001b[49m\n",
      "File \u001b[1;32mc:\\Users\\kangs\\AppData\\Local\\pypoetry\\Cache\\virtualenvs\\wrtn-crawl-amDQJCgi-py3.12\\Lib\\site-packages\\selenium\\webdriver\\remote\\webdriver.py:354\u001b[0m, in \u001b[0;36mWebDriver.execute\u001b[1;34m(self, driver_command, params)\u001b[0m\n\u001b[0;32m    352\u001b[0m response \u001b[38;5;241m=\u001b[39m \u001b[38;5;28mself\u001b[39m\u001b[38;5;241m.\u001b[39mcommand_executor\u001b[38;5;241m.\u001b[39mexecute(driver_command, params)\n\u001b[0;32m    353\u001b[0m \u001b[38;5;28;01mif\u001b[39;00m response:\n\u001b[1;32m--> 354\u001b[0m     \u001b[38;5;28;43mself\u001b[39;49m\u001b[38;5;241;43m.\u001b[39;49m\u001b[43merror_handler\u001b[49m\u001b[38;5;241;43m.\u001b[39;49m\u001b[43mcheck_response\u001b[49m\u001b[43m(\u001b[49m\u001b[43mresponse\u001b[49m\u001b[43m)\u001b[49m\n\u001b[0;32m    355\u001b[0m     response[\u001b[38;5;124m\"\u001b[39m\u001b[38;5;124mvalue\u001b[39m\u001b[38;5;124m\"\u001b[39m] \u001b[38;5;241m=\u001b[39m \u001b[38;5;28mself\u001b[39m\u001b[38;5;241m.\u001b[39m_unwrap_value(response\u001b[38;5;241m.\u001b[39mget(\u001b[38;5;124m\"\u001b[39m\u001b[38;5;124mvalue\u001b[39m\u001b[38;5;124m\"\u001b[39m, \u001b[38;5;28;01mNone\u001b[39;00m))\n\u001b[0;32m    356\u001b[0m     \u001b[38;5;28;01mreturn\u001b[39;00m response\n",
      "File \u001b[1;32mc:\\Users\\kangs\\AppData\\Local\\pypoetry\\Cache\\virtualenvs\\wrtn-crawl-amDQJCgi-py3.12\\Lib\\site-packages\\selenium\\webdriver\\remote\\errorhandler.py:229\u001b[0m, in \u001b[0;36mErrorHandler.check_response\u001b[1;34m(self, response)\u001b[0m\n\u001b[0;32m    227\u001b[0m         alert_text \u001b[38;5;241m=\u001b[39m value[\u001b[38;5;124m\"\u001b[39m\u001b[38;5;124malert\u001b[39m\u001b[38;5;124m\"\u001b[39m]\u001b[38;5;241m.\u001b[39mget(\u001b[38;5;124m\"\u001b[39m\u001b[38;5;124mtext\u001b[39m\u001b[38;5;124m\"\u001b[39m)\n\u001b[0;32m    228\u001b[0m     \u001b[38;5;28;01mraise\u001b[39;00m exception_class(message, screen, stacktrace, alert_text)  \u001b[38;5;66;03m# type: ignore[call-arg]  # mypy is not smart enough here\u001b[39;00m\n\u001b[1;32m--> 229\u001b[0m \u001b[38;5;28;01mraise\u001b[39;00m exception_class(message, screen, stacktrace)\n",
      "\u001b[1;31mElementClickInterceptedException\u001b[0m: Message: element click intercepted: Element <div display=\"flex\" class=\"css-22ekby\">...</div> is not clickable at point (103, 847). Other element would receive the click: <button width=\"36px\" height=\"36px\" display=\"flex\" class=\"css-1wyj0o6\">...</button>\n  (Session info: chrome=129.0.6668.100)\nStacktrace:\n\tGetHandleVerifier [0x00007FF77D79B095+29557]\n\t(No symbol) [0x00007FF77D70FA50]\n\t(No symbol) [0x00007FF77D5CB56A]\n\t(No symbol) [0x00007FF77D62737E]\n\t(No symbol) [0x00007FF77D624DCC]\n\t(No symbol) [0x00007FF77D622288]\n\t(No symbol) [0x00007FF77D62149A]\n\t(No symbol) [0x00007FF77D61354E]\n\t(No symbol) [0x00007FF77D64718A]\n\t(No symbol) [0x00007FF77D612E86]\n\t(No symbol) [0x00007FF77D6473A0]\n\t(No symbol) [0x00007FF77D66851C]\n\t(No symbol) [0x00007FF77D646F33]\n\t(No symbol) [0x00007FF77D61116F]\n\t(No symbol) [0x00007FF77D6122D1]\n\tGetHandleVerifier [0x00007FF77DACC96D+3378253]\n\tGetHandleVerifier [0x00007FF77DB18497+3688311]\n\tGetHandleVerifier [0x00007FF77DB0D1CB+3642539]\n\tGetHandleVerifier [0x00007FF77D85A6B6+813462]\n\t(No symbol) [0x00007FF77D71AB5F]\n\t(No symbol) [0x00007FF77D716B74]\n\t(No symbol) [0x00007FF77D716D10]\n\t(No symbol) [0x00007FF77D705C1F]\n\tBaseThreadInitThunk [0x00007FF9253A257D+29]\n\tRtlUserThreadStart [0x00007FF925D0AF08+40]\n"
     ]
    }
   ],
   "source": [
    "for cat_num in range(2, 12):\n",
    "    cat = driver.find_element(By.CSS_SELECTOR, f'.css-1fzkvcn > *:nth-child({cat_num})')\n",
    "    # db에 저장할 카테고리명 추출\n",
    "    db_category = cat.text\n",
    "    # 출력해서 확인\n",
    "    print(db_category)\n",
    "    # 해당 카테고리 클릭\n",
    "    cat.click()"
   ]
  },
  {
   "cell_type": "code",
   "execution_count": 32,
   "metadata": {},
   "outputs": [
    {
     "name": "stdout",
     "output_type": "stream",
     "text": [
      "기타\n"
     ]
    }
   ],
   "source": [
    "# 카테고리 선택\n",
    "cat_num = 11\n",
    "cat = driver.find_element(By.CSS_SELECTOR, f'.css-1fzkvcn > *:nth-child({cat_num})')\n",
    "# db에 저장할 카테고리명 추출\n",
    "db_category = cat.text\n",
    "# 출력해서 확인\n",
    "print(db_category)\n",
    "# 해당 카테고리 클릭\n",
    "cat.click()"
   ]
  },
  {
   "cell_type": "code",
   "execution_count": 27,
   "metadata": {},
   "outputs": [],
   "source": [
    "#스크롤 가능 오브젝트가 윈도우가 아니라, #character-home-scroll 다.\n",
    "scrollable_div = driver.find_element(By.CSS_SELECTOR, \"#character-home-scroll\")\n",
    "driver.execute_script(\"arguments[0].scrollTop = arguments[0].scrollHeight\", scrollable_div)"
   ]
  },
  {
   "cell_type": "code",
   "execution_count": 33,
   "metadata": {},
   "outputs": [],
   "source": [
    "# 특정 캐릭터 선택\n",
    "dataIdx= 0\n",
    "each_selector = f'.virtuoso-grid-item[data-index=\"{dataIdx}\"]'\n",
    "# 해당 캐릭터 요소를 element에 저장\n",
    "element = driver.find_element(By.CSS_SELECTOR, each_selector)"
   ]
  },
  {
   "cell_type": "code",
   "execution_count": 34,
   "metadata": {},
   "outputs": [
    {
     "data": {
      "text/plain": [
       "'임유아'"
      ]
     },
     "execution_count": 34,
     "metadata": {},
     "output_type": "execute_result"
    }
   ],
   "source": [
    "# 해당 요소를 text로 파싱한 후, 개행 문자 기준으로 나눠서 캐릭터명, 설명, 작성자를 저장\n",
    "db_name, db_comment, db_writer = element.text.split('\\n')\n",
    "db_name"
   ]
  },
  {
   "cell_type": "code",
   "execution_count": 35,
   "metadata": {},
   "outputs": [],
   "source": [
    "# 클릭해서 들어가는 요소와, 이미지 요소의 선택자를 별도 작성\n",
    "clk_selector = each_selector+'>div>div:first-child'\n",
    "img_selector = clk_selector+'>div:first-child>.character_avatar>img'"
   ]
  },
  {
   "cell_type": "code",
   "execution_count": 36,
   "metadata": {},
   "outputs": [
    {
     "data": {
      "text/plain": [
       "'https://d394jeh9729epj.cloudfront.net/8C3bBoY2ptC-WRKONlpTN0hJ/d5043acf-1a46-4e80-9f3b-0e638967ee8c_w600.jpeg'"
      ]
     },
     "execution_count": 36,
     "metadata": {},
     "output_type": "execute_result"
    }
   ],
   "source": [
    "# 이미지 요소의 url을 저장\n",
    "db_img = driver.find_element(By.CSS_SELECTOR, img_selector).get_attribute('src')\n",
    "db_img"
   ]
  },
  {
   "cell_type": "code",
   "execution_count": 37,
   "metadata": {},
   "outputs": [],
   "source": [
    "# 선택했던 캐릭터의 페이지로 넘어감\n",
    "driver.find_element(By.CSS_SELECTOR, clk_selector).click()"
   ]
  },
  {
   "cell_type": "code",
   "execution_count": 38,
   "metadata": {},
   "outputs": [],
   "source": [
    "# 모달 창 내에서 '대화 나누기' 클릭\n",
    "driver.find_element(By.CSS_SELECTOR, \"#web-modal>div>div>div>div:nth-child(4)>button\").click()"
   ]
  },
  {
   "cell_type": "code",
   "execution_count": 39,
   "metadata": {},
   "outputs": [
    {
     "data": {
      "text/plain": [
       "'어느 한 주말. 임유아는 방에 의자에 앉아 우아하게 다리를 꼬고 있었다. 임유아가 갑자기 당신을 부른다\\n야이 동생새꺄~! 라면이나 쳐 끓여와라.\\n임유아는 꼬은 다리를 올려 발 끝으로 당신의 배를 쿡쿡 찌르며 비웃는다.'"
      ]
     },
     "execution_count": 39,
     "metadata": {},
     "output_type": "execute_result"
    }
   ],
   "source": [
    "# 해당 캐릭터의 첫번째 대사를 텍스트로 파싱\n",
    "db_first_dial = driver.find_element(By.CSS_SELECTOR, '.message-bubble.css-1oinfq4').text\n",
    "db_first_dial"
   ]
  },
  {
   "cell_type": "code",
   "execution_count": 84,
   "metadata": {},
   "outputs": [],
   "source": [
    "# 페이지 뒤로 가기\n",
    "driver.back()"
   ]
  },
  {
   "cell_type": "code",
   "execution_count": 40,
   "metadata": {},
   "outputs": [],
   "source": [
    "# 크롬드라이버 종료\n",
    "driver.quit()"
   ]
  }
 ],
 "metadata": {
  "kernelspec": {
   "display_name": "wrtn-crawl-amDQJCgi-py3.12",
   "language": "python",
   "name": "python3"
  },
  "language_info": {
   "codemirror_mode": {
    "name": "ipython",
    "version": 3
   },
   "file_extension": ".py",
   "mimetype": "text/x-python",
   "name": "python",
   "nbconvert_exporter": "python",
   "pygments_lexer": "ipython3",
   "version": "3.12.3"
  }
 },
 "nbformat": 4,
 "nbformat_minor": 2
}
