{
 "cells": [
  {
   "cell_type": "code",
   "execution_count": 1,
   "metadata": {},
   "outputs": [],
   "source": [
    "import time\n",
    "import pandas as pd\n",
    "from selenium import webdriver\n",
    "from selenium.webdriver.common.by import By"
   ]
  },
  {
   "cell_type": "code",
   "execution_count": 2,
   "metadata": {},
   "outputs": [],
   "source": [
    "options = webdriver.ChromeOptions()\n",
    "options.add_argument('headless')\n",
    "options.add_argument('--no-sandbox')\n",
    "options.add_argument('--disable-dev-shm-usage')\n",
    "# 리눅스 환경은 크롬 브라우저를 띄울 수가 없음(가상환경)\n",
    "driver = webdriver.Chrome(options=options)"
   ]
  },
  {
   "cell_type": "code",
   "execution_count": 3,
   "metadata": {},
   "outputs": [],
   "source": [
    "# '캐릭터 둘러보기' 페이지 이동\n",
    "driver.get(\"https://wrtn.ai/character\")"
   ]
  },
  {
   "cell_type": "code",
   "execution_count": 16,
   "metadata": {},
   "outputs": [
    {
     "name": "stdout",
     "output_type": "stream",
     "text": [
      "애니메이션/만화\n"
     ]
    }
   ],
   "source": [
    "# 카테고리 선택\n",
    "cat_num = 3\n",
    "cat = driver.find_element(By.CSS_SELECTOR, f'.css-1fzkvcn > *:nth-child({cat_num})')\n",
    "# db에 저장할 카테고리명 추출\n",
    "db_category = cat.text\n",
    "# 출력해서 확인\n",
    "print(db_category)\n",
    "# 해당 카테고리 클릭\n",
    "cat.click()"
   ]
  },
  {
   "cell_type": "code",
   "execution_count": 9,
   "metadata": {},
   "outputs": [],
   "source": [
    "#스크롤 가능 오브젝트가 윈도우가 아니라, #character-home-scroll 다.\n",
    "scrollable_div = driver.find_element(By.CSS_SELECTOR, \"#character-home-scroll\")\n",
    "driver.execute_script(\"arguments[0].scrollTop = arguments[0].scrollHeight\", scrollable_div)"
   ]
  },
  {
   "cell_type": "code",
   "execution_count": 17,
   "metadata": {},
   "outputs": [],
   "source": [
    "# 특정 캐릭터 선택\n",
    "dataIdx= 5\n",
    "each_selector = f'.virtuoso-grid-item[data-index=\"{dataIdx}\"]'\n",
    "# 해당 캐릭터 요소를 element에 저장\n",
    "element = driver.find_element(By.CSS_SELECTOR, each_selector)"
   ]
  },
  {
   "cell_type": "code",
   "execution_count": 18,
   "metadata": {},
   "outputs": [
    {
     "data": {
      "text/plain": [
       "'뱀파이어 로드 아르시아\\n인간이 뱀파이어에게 이겨버린 세계의 남은 (전)뱀파이어 로드\\nJOHNDOE'"
      ]
     },
     "execution_count": 18,
     "metadata": {},
     "output_type": "execute_result"
    }
   ],
   "source": [
    "element.text"
   ]
  },
  {
   "cell_type": "code",
   "execution_count": 86,
   "metadata": {},
   "outputs": [
    {
     "data": {
      "text/plain": [
       "'메스머라이저'"
      ]
     },
     "execution_count": 86,
     "metadata": {},
     "output_type": "execute_result"
    }
   ],
   "source": [
    "# 해당 요소를 text로 파싱한 후, 개행 문자 기준으로 나눠서 캐릭터명, 설명, 작성자를 저장\n",
    "db_name, db_comment, db_writer = element.text.split('\\n')\n",
    "db_name"
   ]
  },
  {
   "cell_type": "code",
   "execution_count": 76,
   "metadata": {},
   "outputs": [],
   "source": [
    "# 클릭해서 들어가는 요소와, 이미지 요소의 선택자를 별도 작성\n",
    "clk_selector = each_selector+'>div>div:first-child'\n",
    "img_selector = clk_selector+'>div:first-child>.character_avatar>img'"
   ]
  },
  {
   "cell_type": "code",
   "execution_count": 79,
   "metadata": {},
   "outputs": [
    {
     "data": {
      "text/plain": [
       "'https://d394jeh9729epj.cloudfront.net/8zKucpLKRfG-GGKOT1M5Q000/c0fabe2a-6c48-456f-8eb5-5c6b384123d1_w600.jpeg'"
      ]
     },
     "execution_count": 79,
     "metadata": {},
     "output_type": "execute_result"
    }
   ],
   "source": [
    "# 이미지 요소의 url을 저장\n",
    "db_img = driver.find_element(By.CSS_SELECTOR, img_selector).get_attribute('src')\n",
    "db_img"
   ]
  },
  {
   "cell_type": "code",
   "execution_count": 81,
   "metadata": {},
   "outputs": [],
   "source": [
    "# 선택했던 캐릭터의 페이지로 넘어감\n",
    "driver.find_element(By.CSS_SELECTOR, clk_selector).click()"
   ]
  },
  {
   "cell_type": "code",
   "execution_count": 83,
   "metadata": {},
   "outputs": [
    {
     "data": {
      "text/plain": [
       "'\"혼자인 것만 빼면, 그럭저럭 괜찮은 세상인데.. 어? 저건 뭐지.. 설마?\"\\n어색할 정도로 밝고 흰 하늘, 그리고 그와 대비되는 파편과 폐허로 가득 찬 곳.\\n사람의 흔적은 보이지 않고, 이상한 유리 조각만이 떠다니는 어딘가 이상한 세계.\\nㅤ\\n조용히 떠돌아다니는 아스터, 계속되는 외로움에 조금 지쳐 보인다.\\n그때 무언가, 분명히 사람같은 실루엣을 발견한 아스터는 밑져야 본전으로 일단 소리쳐 본다.\\n저기요? 거기 누구 있어요?'"
      ]
     },
     "execution_count": 83,
     "metadata": {},
     "output_type": "execute_result"
    }
   ],
   "source": [
    "# 해당 캐릭터의 첫번째 대사를 텍스트로 파싱\n",
    "db_first_dial = driver.find_element(By.CSS_SELECTOR, '.message-bubble.css-1oinfq4').text\n",
    "db_first_dial"
   ]
  },
  {
   "cell_type": "code",
   "execution_count": 84,
   "metadata": {},
   "outputs": [],
   "source": [
    "# 페이지 뒤로 가기\n",
    "driver.back()"
   ]
  },
  {
   "cell_type": "code",
   "execution_count": 19,
   "metadata": {},
   "outputs": [],
   "source": [
    "# 크롬드라이버 종료\n",
    "driver.quit()"
   ]
  }
 ],
 "metadata": {
  "kernelspec": {
   "display_name": "wrtn-crawl-cYd2TfoI-py3.12",
   "language": "python",
   "name": "python3"
  },
  "language_info": {
   "codemirror_mode": {
    "name": "ipython",
    "version": 3
   },
   "file_extension": ".py",
   "mimetype": "text/x-python",
   "name": "python",
   "nbconvert_exporter": "python",
   "pygments_lexer": "ipython3",
   "version": "3.12.3"
  }
 },
 "nbformat": 4,
 "nbformat_minor": 2
}
